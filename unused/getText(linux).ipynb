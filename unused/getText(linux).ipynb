{
 "cells": [
  {
   "cell_type": "code",
   "execution_count": null,
   "metadata": {},
   "outputs": [],
   "source": [
    "import os,sys\n",
    "ori_folder = \"/root/autodl-tmp/2019\"\n",
    "save_folder = \"/root/autodl-tmp/all_text_in_data\""
   ]
  },
  {
   "cell_type": "code",
   "execution_count": null,
   "metadata": {},
   "outputs": [],
   "source": [
    "import tkinter as tk\n",
    "from selenium import webdriver\n",
    "from selenium.webdriver.common.keys import Keys\n",
    "from selenium.webdriver.common.by import By\n",
    "from selenium.webdriver.chrome.options import Options\n",
    "import pyperclip\n",
    "\n",
    "ChromeOptions = webdriver.ChromeOptions()\n",
    "ChromeOptions.add_argument('--headless')\n",
    "ChromeOptions.add_argument('--no-sandbox')\n",
    "ChromeOptions.add_argument('--disable-gpu')\n",
    "ChromeOptions.add_argument('--disable-dev-shm-usage')\n",
    "ChromeOptions.add_argument('window-size=1200x600')\n",
    "\n",
    "\n",
    "file_names = os.listdir( ori_folder )\n",
    "done_file_names = os.listdir( save_folder )\n",
    "\n",
    "for file_name in file_names[:100]:\n",
    "    if file_name in done_file_names:\n",
    "        continue\n",
    "    driver = webdriver.Chrome(options=ChromeOptions)\n",
    "    web_path = \"file:/\" + ori_folder + \"/\"  + file_name\n",
    "    web_path = \"file://root/autodl-tmp/1750-AAR CORP-10-K-2007-07-20.html\"\n",
    "    print(web_path)\n",
    "    driver.get(web_path)\n",
    "    # txt = driver.find_element(By.XPATH,'/html/body').get_attribute(\"value\").toString()\n",
    "    driver.find_element(By.XPATH,'/html/body').send_keys(Keys.CONTROL+'a')\n",
    "    driver.find_element(By.XPATH,'/html/body').send_keys(Keys.CONTROL+'c')\n",
    "    print(txt)\n",
    "    # root = tk.Tk()\n",
    "    # root.withdraw()  # to hide the window\n",
    "    # content = root.clipboard_get()\n",
    "    content = pyperclip.paste()\n",
    "    driver.close()\n",
    "    driver.quit()\n",
    "    print(content)\n",
    "    break\n",
    "    # save_path = save_folder + \"/\"  + file_name\n",
    "    # # save_path = save_folder + \"/\"  + file_name.replace(\"html\",\"txt\")\n",
    "    # with open(save_path,'w',encoding='utf-8')as file:\n",
    "    #     file.write(content)"
   ]
  },
  {
   "cell_type": "code",
   "execution_count": null,
   "metadata": {},
   "outputs": [],
   "source": [
    "import tkinter as tk\n",
    "from selenium import webdriver\n",
    "from selenium.webdriver.common.keys import Keys\n",
    "chrome_path = \"/root/autodl-tmp/chromedriver.exe\"\n",
    "\n",
    "driver = webdriver.Chrome(chrome_path)\n",
    "web_path =  \"https://baidu.com/\"\n",
    "print(web_path)\n",
    "driver.get(web_path)\n",
    "\n",
    "driver.find_element_by_tag_name('body').send_keys(Keys.CONTROL+'a')\n",
    "driver.find_element_by_tag_name('body').send_keys(Keys.CONTROL+'c')\n",
    "\n",
    "root = tk.Tk()\n",
    "root.withdraw()  # to hide the window\n",
    "content = root.clipboard_get()\n",
    "driver.close()\n",
    "driver.quit()\n",
    "print(content)"
   ]
  },
  {
   "cell_type": "code",
   "execution_count": null,
   "metadata": {},
   "outputs": [],
   "source": [
    "import clipboard\n",
    "clipboard.copy(\"abc\")  # now the clipboard content will be string \"abc\"\n",
    "text = clipboard.paste()  # text will have the content of clipboard"
   ]
  },
  {
   "cell_type": "code",
   "execution_count": null,
   "metadata": {},
   "outputs": [],
   "source": [
    "from gi.repository import Gtk, Gdk\n",
    "\n",
    "\n",
    "class Hello(Gtk.Window):\n",
    "\n",
    "    def __init__(self):\n",
    "        super(Hello, self).__init__()\n",
    "        clipboard = Gtk.Clipboard.get(Gdk.SELECTION_CLIPBOARD)\n",
    "        clipboard.set_text(\"hello world\", -1)\n",
    "        Gtk.main_quit()\n",
    "\n",
    "\n",
    "def main():\n",
    "    Hello()\n",
    "    Gtk.main()\n",
    "\n",
    "if __name__ == \"__main__\":\n",
    "    main()"
   ]
  }
 ],
 "metadata": {
  "kernelspec": {
   "display_name": "dataw",
   "language": "python",
   "name": "python3"
  },
  "language_info": {
   "codemirror_mode": {
    "name": "ipython",
    "version": 3
   },
   "file_extension": ".py",
   "mimetype": "text/x-python",
   "name": "python",
   "nbconvert_exporter": "python",
   "pygments_lexer": "ipython3",
   "version": "3.7.12 | packaged by conda-forge | (default, Oct 26 2021, 05:35:01) [MSC v.1916 64 bit (AMD64)]"
  },
  "orig_nbformat": 4,
  "vscode": {
   "interpreter": {
    "hash": "e0e5ae3de692c3464b31ea818867324499c4d660717d3a702046857c788395cc"
   }
  }
 },
 "nbformat": 4,
 "nbformat_minor": 2
}
