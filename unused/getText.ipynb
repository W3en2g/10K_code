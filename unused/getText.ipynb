{
 "cells": [
  {
   "cell_type": "code",
   "execution_count": null,
   "metadata": {},
   "outputs": [],
   "source": [
    "import os,sys,re\n",
    "ori_folder = \"E:/Dataset/FinNLP/Project_10k/rawdata/10k_files/2006_2008\"\n",
    "save_folder = \"E:/Dataset/FinNLP/Project_10k/all_text_in_data\""
   ]
  },
  {
   "cell_type": "code",
   "execution_count": null,
   "metadata": {},
   "outputs": [],
   "source": [
    "import tkinter as tk\n",
    "from selenium import webdriver\n",
    "from selenium.webdriver.common.keys import Keys\n",
    "from tqdm import tqdm\n",
    "chrome_path = \"D:/Projectach/金融_NLP_RA/chromedriver_win32/chromedriver.exe\"\n",
    "\n",
    "\n",
    "\n",
    "file_names = os.listdir( ori_folder )\n",
    "done_file_names = os.listdir( save_folder )\n",
    "\n",
    "for file_name in tqdm(file_names):\n",
    "    if file_name in done_file_names:\n",
    "        continue\n",
    "    driver = webdriver.Chrome(chrome_path)\n",
    "    web_path = ori_folder + \"/\"  + file_name\n",
    "    print(web_path)\n",
    "    driver.get(web_path)\n",
    "\n",
    "    driver.find_element_by_tag_name('body').send_keys(Keys.CONTROL+'a')\n",
    "    driver.find_element_by_tag_name('body').send_keys(Keys.CONTROL+'c')\n",
    "\n",
    "    root = tk.Tk()\n",
    "    root.withdraw()  # to hide the window\n",
    "    content = root.clipboard_get()\n",
    "    driver.close()\n",
    "    driver.quit()\n",
    "\n",
    "    save_path = save_folder + \"/\"  + file_name\n",
    "    # save_path = save_folder + \"/\"  + file_name.replace(\"html\",\"txt\")\n",
    "    with open(save_path,'w',encoding='utf-8')as file:\n",
    "        file.write(content)"
   ]
  },
  {
   "cell_type": "code",
   "execution_count": null,
   "metadata": {},
   "outputs": [],
   "source": [
    "import tkinter as tk\n",
    "from selenium import webdriver\n",
    "from selenium.webdriver.common.by import By\n",
    "from selenium.webdriver.common.keys import Keys\n",
    "chrome_path = \"D:/Projectach/金融_NLP_RA/chromedriver_win32/chromedriver.exe\"\n",
    "\n",
    "\n",
    "\n",
    "file_names = os.listdir( ori_folder )\n",
    "done_file_names = os.listdir( save_folder )\n",
    "\n",
    "for file_name in file_names:\n",
    "    if file_name in done_file_names:\n",
    "        continue\n",
    "    driver = webdriver.Chrome(chrome_path)\n",
    "    web_path = ori_folder + \"/\"  + file_name\n",
    "    print(web_path)\n",
    "    driver.get(web_path)\n",
    "\n",
    "    content = driver.find_element(By.XPATH, \"/html/body\").text\n",
    "\n",
    "    save_path = save_folder + \"/\"  + file_name\n",
    "    # save_path = save_folder + \"/\"  + file_name.replace(\"html\",\"txt\")\n",
    "    # print(content)\n",
    "    # break\n",
    "    with open(save_path,'w',encoding='utf-8')as file:\n",
    "        file.write(content)"
   ]
  }
 ],
 "metadata": {
  "kernelspec": {
   "display_name": "dataw",
   "language": "python",
   "name": "python3"
  },
  "language_info": {
   "codemirror_mode": {
    "name": "ipython",
    "version": 3
   },
   "file_extension": ".py",
   "mimetype": "text/x-python",
   "name": "python",
   "nbconvert_exporter": "python",
   "pygments_lexer": "ipython3",
   "version": "3.7.12 | packaged by conda-forge | (default, Oct 26 2021, 05:35:01) [MSC v.1916 64 bit (AMD64)]"
  },
  "orig_nbformat": 4,
  "vscode": {
   "interpreter": {
    "hash": "e0e5ae3de692c3464b31ea818867324499c4d660717d3a702046857c788395cc"
   }
  }
 },
 "nbformat": 4,
 "nbformat_minor": 2
}
