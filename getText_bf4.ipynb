{
 "cells": [
  {
   "cell_type": "code",
   "execution_count": null,
   "metadata": {},
   "outputs": [],
   "source": [
    "from bs4 import BeautifulSoup\n",
    "from tqdm import tqdm\n",
    "import unicodedata\n",
    "\n",
    "import os,sys\n",
    "ori_folder = \"E:/Dataset/FinNLP/Project_10k/rawdata/10k_files/2006_2008\"\n",
    "save_folder = \"E:/Dataset/FinNLP/Project_10k/all_text_in_data\"\n",
    "\n",
    "file_names = os.listdir( ori_folder )\n",
    "done_file_names = os.listdir( save_folder )\n",
    "\n",
    "miss_list = []\n",
    "\n",
    "for file_name in tqdm(file_names):\n",
    "    if file_name in done_file_names:\n",
    "        continue\n",
    "    web_path = ori_folder + \"/\"  + file_name\n",
    "\n",
    "    try:\n",
    "        soup=BeautifulSoup(open(web_path,encoding='utf-8'),features='html.parser')  #features值可为lxml\n",
    "        content = soup.find_all(text=True)\n",
    "        # content = soup.get_text() 不能用这个\n",
    "\n",
    "\n",
    "        text = []\n",
    "        for item in content:\n",
    "            item = unicodedata.normalize('NFKC', item)\n",
    "            item = item.replace(\"\\n\",\"\")\n",
    "            if item not in ['\\n', ' ', '']:\n",
    "                item = item.replace(\"\\n\",\"\")\n",
    "                item = item.replace(\"  \",\" \")\n",
    "                text.append(item)\n",
    "\n",
    "        save_path = save_folder + \"/\"  + file_name\n",
    "        # save_path = save_folder + \"/\"  + file_name.replace(\"html\",\"txt\")\n",
    "        with open(save_path,'w',encoding='utf-8')as file:\n",
    "            file.write(\" \".join(text))\n",
    "    except:\n",
    "        miss_list.append(web_path)\n",
    "        continue"
   ]
  },
  {
   "cell_type": "code",
   "execution_count": null,
   "metadata": {},
   "outputs": [],
   "source": [
    "import pickle\n",
    "\n",
    "save_folder = \"E:/Dataset/FinNLP/Project_10k/all_text_in_data\"\n",
    "pickle.dump(miss_list, open(f'{save_folder}/{miss_list}.pickle', 'wb'))"
   ]
  },
  {
   "cell_type": "code",
   "execution_count": null,
   "metadata": {},
   "outputs": [],
   "source": [
    "from bs4 import BeautifulSoup\n",
    "from tqdm import tqdm\n",
    "import unicodedata\n",
    "\n",
    "import os,sys\n",
    "ori_folder = \"E:/Dataset/FinNLP/Project_10k/rawdata/10k_files/2006_2008\"\n",
    "save_folder = \"E:/Dataset/FinNLP/Project_10k/all_text_in_data\"\n",
    "\n",
    "file_names = os.listdir( ori_folder )\n",
    "done_file_names = os.listdir( save_folder )\n",
    "\n",
    "miss_list = []\n",
    "\n",
    "for file_name in tqdm(file_names):\n",
    "    if file_name in done_file_names:\n",
    "        continue\n",
    "    web_path = ori_folder + \"/\"  + \"20-K TRON INTERNATIONAL INC-10-K-2006-03-23.html\"\n",
    "\n",
    "    \n",
    "    html = open(web_path).read()\n",
    "    soup=BeautifulSoup(open(web_path,encoding='utf-8'),features='html.parser')  #features值可为lxml\n",
    "    content = soup.get_text()\n",
    "    print(content)\n",
    "    \n",
    "    break"
   ]
  }
 ],
 "metadata": {
  "kernelspec": {
   "display_name": "dataw",
   "language": "python",
   "name": "python3"
  },
  "language_info": {
   "codemirror_mode": {
    "name": "ipython",
    "version": 3
   },
   "file_extension": ".py",
   "mimetype": "text/x-python",
   "name": "python",
   "nbconvert_exporter": "python",
   "pygments_lexer": "ipython3",
   "version": "3.7.12"
  },
  "orig_nbformat": 4,
  "vscode": {
   "interpreter": {
    "hash": "e0e5ae3de692c3464b31ea818867324499c4d660717d3a702046857c788395cc"
   }
  }
 },
 "nbformat": 4,
 "nbformat_minor": 2
}
