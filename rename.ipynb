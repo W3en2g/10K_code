{
 "cells": [
  {
   "cell_type": "code",
   "execution_count": null,
   "metadata": {},
   "outputs": [],
   "source": [
    "import os,sys\n",
    "folder_path = \"E:/Dataset/FinNLP/Project_10k/rawdata/10k_files/2006_2008\""
   ]
  },
  {
   "cell_type": "code",
   "execution_count": null,
   "metadata": {},
   "outputs": [],
   "source": [
    "def update_files_name():\n",
    "    old_names = os.listdir(folder_path)\n",
    "    for old_name in old_names:\n",
    "        if old_name!= sys.argv[0] and \"html\" not in old_name: # 代码本身路径，防止脚本文件放在path路径下时,被一起重命名\n",
    "            new_name = old_name + \".html\"\n",
    "            os.rename(os.path.join(folder_path,old_name),os.path.join(folder_path,new_name))\n",
    "update_files_name()"
   ]
  }
 ],
 "metadata": {
  "kernelspec": {
   "display_name": "allenNLP",
   "language": "python",
   "name": "python3"
  },
  "language_info": {
   "name": "python",
   "version": "3.7.12 | packaged by conda-forge | (default, Oct 26 2021, 05:35:01) [MSC v.1916 64 bit (AMD64)]"
  },
  "orig_nbformat": 4,
  "vscode": {
   "interpreter": {
    "hash": "6b9ab3d7aeb713bb23367aacbf7bd3157791efac18b94bcf3d7fa9b071a27650"
   }
  }
 },
 "nbformat": 4,
 "nbformat_minor": 2
}
