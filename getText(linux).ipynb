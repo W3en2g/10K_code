{
 "cells": [
  {
   "cell_type": "code",
   "execution_count": 1,
   "metadata": {},
   "outputs": [],
   "source": [
    "import os,sys\n",
    "ori_folder = \"/root/autodl-tmp/2019\"\n",
    "save_folder = \"/root/autodl-tmp/all_text_in_data\""
   ]
  },
  {
   "cell_type": "code",
   "execution_count": 4,
   "metadata": {},
   "outputs": [
    {
     "name": "stdout",
     "output_type": "stream",
     "text": [
      "file://root/autodl-tmp/1750-AAR CORP-10-K-2007-07-20.html\n"
     ]
    },
    {
     "ename": "AttributeError",
     "evalue": "'NoneType' object has no attribute 'toString'",
     "output_type": "error",
     "traceback": [
      "\u001b[0;31m---------------------------------------------------------------------------\u001b[0m",
      "\u001b[0;31mAttributeError\u001b[0m                            Traceback (most recent call last)",
      "\u001b[1;32m/root/autodl-tmp/getText.ipynb Cell 2\u001b[0m in \u001b[0;36m<cell line: 19>\u001b[0;34m()\u001b[0m\n\u001b[1;32m     <a href='vscode-notebook-cell://ssh-remote%2Bregion-3.seetacloud.com/root/autodl-tmp/getText.ipynb#W1sdnNjb2RlLXJlbW90ZQ%3D%3D?line=24'>25</a>\u001b[0m \u001b[39mprint\u001b[39m(web_path)\n\u001b[1;32m     <a href='vscode-notebook-cell://ssh-remote%2Bregion-3.seetacloud.com/root/autodl-tmp/getText.ipynb#W1sdnNjb2RlLXJlbW90ZQ%3D%3D?line=25'>26</a>\u001b[0m driver\u001b[39m.\u001b[39mget(web_path)\n\u001b[0;32m---> <a href='vscode-notebook-cell://ssh-remote%2Bregion-3.seetacloud.com/root/autodl-tmp/getText.ipynb#W1sdnNjb2RlLXJlbW90ZQ%3D%3D?line=26'>27</a>\u001b[0m txt \u001b[39m=\u001b[39m driver\u001b[39m.\u001b[39;49mfind_element(By\u001b[39m.\u001b[39;49mXPATH,\u001b[39m'\u001b[39;49m\u001b[39m/html/body\u001b[39;49m\u001b[39m'\u001b[39;49m)\u001b[39m.\u001b[39;49mget_attribute(\u001b[39m\"\u001b[39;49m\u001b[39mvalue\u001b[39;49m\u001b[39m\"\u001b[39;49m)\u001b[39m.\u001b[39;49mtoString()\n\u001b[1;32m     <a href='vscode-notebook-cell://ssh-remote%2Bregion-3.seetacloud.com/root/autodl-tmp/getText.ipynb#W1sdnNjb2RlLXJlbW90ZQ%3D%3D?line=27'>28</a>\u001b[0m \u001b[39m# driver.find_element(By.XPATH,'/html/body').send_keys(Keys.CONTROL+'a')\u001b[39;00m\n\u001b[1;32m     <a href='vscode-notebook-cell://ssh-remote%2Bregion-3.seetacloud.com/root/autodl-tmp/getText.ipynb#W1sdnNjb2RlLXJlbW90ZQ%3D%3D?line=28'>29</a>\u001b[0m \u001b[39m# driver.find_element(By.XPATH,'/html/body').send_keys(Keys.CONTROL+'c')\u001b[39;00m\n\u001b[1;32m     <a href='vscode-notebook-cell://ssh-remote%2Bregion-3.seetacloud.com/root/autodl-tmp/getText.ipynb#W1sdnNjb2RlLXJlbW90ZQ%3D%3D?line=29'>30</a>\u001b[0m \u001b[39mprint\u001b[39m(txt)\n",
      "\u001b[0;31mAttributeError\u001b[0m: 'NoneType' object has no attribute 'toString'"
     ]
    }
   ],
   "source": [
    "import tkinter as tk\n",
    "from selenium import webdriver\n",
    "from selenium.webdriver.common.keys import Keys\n",
    "from selenium.webdriver.common.by import By\n",
    "from selenium.webdriver.chrome.options import Options\n",
    "import pyperclip\n",
    "\n",
    "ChromeOptions = webdriver.ChromeOptions()\n",
    "ChromeOptions.add_argument('--headless')\n",
    "ChromeOptions.add_argument('--no-sandbox')\n",
    "ChromeOptions.add_argument('--disable-gpu')\n",
    "ChromeOptions.add_argument('--disable-dev-shm-usage')\n",
    "ChromeOptions.add_argument('window-size=1200x600')\n",
    "\n",
    "\n",
    "file_names = os.listdir( ori_folder )\n",
    "done_file_names = os.listdir( save_folder )\n",
    "\n",
    "for file_name in file_names[:100]:\n",
    "    if file_name in done_file_names:\n",
    "        continue\n",
    "    driver = webdriver.Chrome(options=ChromeOptions)\n",
    "    web_path = \"file:/\" + ori_folder + \"/\"  + file_name\n",
    "    web_path = \"file://root/autodl-tmp/1750-AAR CORP-10-K-2007-07-20.html\"\n",
    "    print(web_path)\n",
    "    driver.get(web_path)\n",
    "    # txt = driver.find_element(By.XPATH,'/html/body').get_attribute(\"value\").toString()\n",
    "    driver.find_element(By.XPATH,'/html/body').send_keys(Keys.CONTROL+'a')\n",
    "    driver.find_element(By.XPATH,'/html/body').send_keys(Keys.CONTROL+'c')\n",
    "    print(txt)\n",
    "    # root = tk.Tk()\n",
    "    # root.withdraw()  # to hide the window\n",
    "    # content = root.clipboard_get()\n",
    "    content = pyperclip.paste()\n",
    "    driver.close()\n",
    "    driver.quit()\n",
    "    print(content)\n",
    "    break\n",
    "    # save_path = save_folder + \"/\"  + file_name\n",
    "    # # save_path = save_folder + \"/\"  + file_name.replace(\"html\",\"txt\")\n",
    "    # with open(save_path,'w',encoding='utf-8')as file:\n",
    "    #     file.write(content)"
   ]
  },
  {
   "cell_type": "code",
   "execution_count": 4,
   "metadata": {},
   "outputs": [
    {
     "name": "stderr",
     "output_type": "stream",
     "text": [
      "/tmp/ipykernel_2704/3038068198.py:6: DeprecationWarning: executable_path has been deprecated, please pass in a Service object\n",
      "  driver = webdriver.Chrome(chrome_path)\n"
     ]
    },
    {
     "ename": "WebDriverException",
     "evalue": "Message: unknown error: Chrome failed to start: exited abnormally.\n  (unknown error: DevToolsActivePort file doesn't exist)\n  (The process started from chrome location /usr/bin/google-chrome is no longer running, so ChromeDriver is assuming that Chrome has crashed.)\nStacktrace:\n#0 0x561047ff1303 <unknown>\n#1 0x561047dc5d37 <unknown>\n#2 0x561047dee157 <unknown>\n#3 0x561047dea330 <unknown>\n#4 0x561047e2b4a6 <unknown>\n#5 0x561047e22753 <unknown>\n#6 0x561047df5a14 <unknown>\n#7 0x561047df6b7e <unknown>\n#8 0x56104804032e <unknown>\n#9 0x561048043c0e <unknown>\n#10 0x561048026610 <unknown>\n#11 0x561048044c23 <unknown>\n#12 0x561048018545 <unknown>\n#13 0x5610480656a8 <unknown>\n#14 0x561048065836 <unknown>\n#15 0x561048080d13 <unknown>\n#16 0x7fe09cc5d609 start_thread\n",
     "output_type": "error",
     "traceback": [
      "\u001b[0;31m---------------------------------------------------------------------------\u001b[0m",
      "\u001b[0;31mWebDriverException\u001b[0m                        Traceback (most recent call last)",
      "\u001b[1;32m/root/autodl-tmp/getText.ipynb Cell 3\u001b[0m in \u001b[0;36m<cell line: 6>\u001b[0;34m()\u001b[0m\n\u001b[1;32m      <a href='vscode-notebook-cell://ssh-remote%2Bregion-3.seetacloud.com/root/autodl-tmp/getText.ipynb#W2sdnNjb2RlLXJlbW90ZQ%3D%3D?line=2'>3</a>\u001b[0m \u001b[39mfrom\u001b[39;00m \u001b[39mselenium\u001b[39;00m\u001b[39m.\u001b[39;00m\u001b[39mwebdriver\u001b[39;00m\u001b[39m.\u001b[39;00m\u001b[39mcommon\u001b[39;00m\u001b[39m.\u001b[39;00m\u001b[39mkeys\u001b[39;00m \u001b[39mimport\u001b[39;00m Keys\n\u001b[1;32m      <a href='vscode-notebook-cell://ssh-remote%2Bregion-3.seetacloud.com/root/autodl-tmp/getText.ipynb#W2sdnNjb2RlLXJlbW90ZQ%3D%3D?line=3'>4</a>\u001b[0m chrome_path \u001b[39m=\u001b[39m \u001b[39m\"\u001b[39m\u001b[39m/root/autodl-tmp/chromedriver.exe\u001b[39m\u001b[39m\"\u001b[39m\n\u001b[0;32m----> <a href='vscode-notebook-cell://ssh-remote%2Bregion-3.seetacloud.com/root/autodl-tmp/getText.ipynb#W2sdnNjb2RlLXJlbW90ZQ%3D%3D?line=5'>6</a>\u001b[0m driver \u001b[39m=\u001b[39m webdriver\u001b[39m.\u001b[39;49mChrome(chrome_path)\n\u001b[1;32m      <a href='vscode-notebook-cell://ssh-remote%2Bregion-3.seetacloud.com/root/autodl-tmp/getText.ipynb#W2sdnNjb2RlLXJlbW90ZQ%3D%3D?line=6'>7</a>\u001b[0m web_path \u001b[39m=\u001b[39m  \u001b[39m\"\u001b[39m\u001b[39mhttps://baidu.com/\u001b[39m\u001b[39m\"\u001b[39m\n\u001b[1;32m      <a href='vscode-notebook-cell://ssh-remote%2Bregion-3.seetacloud.com/root/autodl-tmp/getText.ipynb#W2sdnNjb2RlLXJlbW90ZQ%3D%3D?line=7'>8</a>\u001b[0m \u001b[39mprint\u001b[39m(web_path)\n",
      "File \u001b[0;32m~/miniconda3/lib/python3.8/site-packages/selenium/webdriver/chrome/webdriver.py:81\u001b[0m, in \u001b[0;36mWebDriver.__init__\u001b[0;34m(self, executable_path, port, options, service_args, desired_capabilities, service_log_path, chrome_options, service, keep_alive)\u001b[0m\n\u001b[1;32m     78\u001b[0m \u001b[39mif\u001b[39;00m \u001b[39mnot\u001b[39;00m service:\n\u001b[1;32m     79\u001b[0m     service \u001b[39m=\u001b[39m Service(executable_path, port, service_args, service_log_path)\n\u001b[0;32m---> 81\u001b[0m \u001b[39msuper\u001b[39;49m()\u001b[39m.\u001b[39;49m\u001b[39m__init__\u001b[39;49m(\n\u001b[1;32m     82\u001b[0m     DesiredCapabilities\u001b[39m.\u001b[39;49mCHROME[\u001b[39m\"\u001b[39;49m\u001b[39mbrowserName\u001b[39;49m\u001b[39m\"\u001b[39;49m],\n\u001b[1;32m     83\u001b[0m     \u001b[39m\"\u001b[39;49m\u001b[39mgoog\u001b[39;49m\u001b[39m\"\u001b[39;49m,\n\u001b[1;32m     84\u001b[0m     port,\n\u001b[1;32m     85\u001b[0m     options,\n\u001b[1;32m     86\u001b[0m     service_args,\n\u001b[1;32m     87\u001b[0m     desired_capabilities,\n\u001b[1;32m     88\u001b[0m     service_log_path,\n\u001b[1;32m     89\u001b[0m     service,\n\u001b[1;32m     90\u001b[0m     keep_alive,\n\u001b[1;32m     91\u001b[0m )\n",
      "File \u001b[0;32m~/miniconda3/lib/python3.8/site-packages/selenium/webdriver/chromium/webdriver.py:106\u001b[0m, in \u001b[0;36mChromiumDriver.__init__\u001b[0;34m(self, browser_name, vendor_prefix, port, options, service_args, desired_capabilities, service_log_path, service, keep_alive)\u001b[0m\n\u001b[1;32m    103\u001b[0m \u001b[39mself\u001b[39m\u001b[39m.\u001b[39mservice\u001b[39m.\u001b[39mstart()\n\u001b[1;32m    105\u001b[0m \u001b[39mtry\u001b[39;00m:\n\u001b[0;32m--> 106\u001b[0m     \u001b[39msuper\u001b[39;49m()\u001b[39m.\u001b[39;49m\u001b[39m__init__\u001b[39;49m(\n\u001b[1;32m    107\u001b[0m         command_executor\u001b[39m=\u001b[39;49mChromiumRemoteConnection(\n\u001b[1;32m    108\u001b[0m             remote_server_addr\u001b[39m=\u001b[39;49m\u001b[39mself\u001b[39;49m\u001b[39m.\u001b[39;49mservice\u001b[39m.\u001b[39;49mservice_url,\n\u001b[1;32m    109\u001b[0m             browser_name\u001b[39m=\u001b[39;49mbrowser_name,\n\u001b[1;32m    110\u001b[0m             vendor_prefix\u001b[39m=\u001b[39;49mvendor_prefix,\n\u001b[1;32m    111\u001b[0m             keep_alive\u001b[39m=\u001b[39;49mkeep_alive,\n\u001b[1;32m    112\u001b[0m             ignore_proxy\u001b[39m=\u001b[39;49m_ignore_proxy,\n\u001b[1;32m    113\u001b[0m         ),\n\u001b[1;32m    114\u001b[0m         options\u001b[39m=\u001b[39;49moptions,\n\u001b[1;32m    115\u001b[0m     )\n\u001b[1;32m    116\u001b[0m \u001b[39mexcept\u001b[39;00m \u001b[39mException\u001b[39;00m:\n\u001b[1;32m    117\u001b[0m     \u001b[39mself\u001b[39m\u001b[39m.\u001b[39mquit()\n",
      "File \u001b[0;32m~/miniconda3/lib/python3.8/site-packages/selenium/webdriver/remote/webdriver.py:288\u001b[0m, in \u001b[0;36mWebDriver.__init__\u001b[0;34m(self, command_executor, desired_capabilities, browser_profile, proxy, keep_alive, file_detector, options)\u001b[0m\n\u001b[1;32m    286\u001b[0m \u001b[39mself\u001b[39m\u001b[39m.\u001b[39m_authenticator_id \u001b[39m=\u001b[39m \u001b[39mNone\u001b[39;00m\n\u001b[1;32m    287\u001b[0m \u001b[39mself\u001b[39m\u001b[39m.\u001b[39mstart_client()\n\u001b[0;32m--> 288\u001b[0m \u001b[39mself\u001b[39;49m\u001b[39m.\u001b[39;49mstart_session(capabilities, browser_profile)\n",
      "File \u001b[0;32m~/miniconda3/lib/python3.8/site-packages/selenium/webdriver/remote/webdriver.py:381\u001b[0m, in \u001b[0;36mWebDriver.start_session\u001b[0;34m(self, capabilities, browser_profile)\u001b[0m\n\u001b[1;32m    379\u001b[0m w3c_caps \u001b[39m=\u001b[39m _make_w3c_caps(capabilities)\n\u001b[1;32m    380\u001b[0m parameters \u001b[39m=\u001b[39m {\u001b[39m\"\u001b[39m\u001b[39mcapabilities\u001b[39m\u001b[39m\"\u001b[39m: w3c_caps}\n\u001b[0;32m--> 381\u001b[0m response \u001b[39m=\u001b[39m \u001b[39mself\u001b[39;49m\u001b[39m.\u001b[39;49mexecute(Command\u001b[39m.\u001b[39;49mNEW_SESSION, parameters)\n\u001b[1;32m    382\u001b[0m \u001b[39mif\u001b[39;00m \u001b[39m\"\u001b[39m\u001b[39msessionId\u001b[39m\u001b[39m\"\u001b[39m \u001b[39mnot\u001b[39;00m \u001b[39min\u001b[39;00m response:\n\u001b[1;32m    383\u001b[0m     response \u001b[39m=\u001b[39m response[\u001b[39m\"\u001b[39m\u001b[39mvalue\u001b[39m\u001b[39m\"\u001b[39m]\n",
      "File \u001b[0;32m~/miniconda3/lib/python3.8/site-packages/selenium/webdriver/remote/webdriver.py:444\u001b[0m, in \u001b[0;36mWebDriver.execute\u001b[0;34m(self, driver_command, params)\u001b[0m\n\u001b[1;32m    442\u001b[0m response \u001b[39m=\u001b[39m \u001b[39mself\u001b[39m\u001b[39m.\u001b[39mcommand_executor\u001b[39m.\u001b[39mexecute(driver_command, params)\n\u001b[1;32m    443\u001b[0m \u001b[39mif\u001b[39;00m response:\n\u001b[0;32m--> 444\u001b[0m     \u001b[39mself\u001b[39;49m\u001b[39m.\u001b[39;49merror_handler\u001b[39m.\u001b[39;49mcheck_response(response)\n\u001b[1;32m    445\u001b[0m     response[\u001b[39m\"\u001b[39m\u001b[39mvalue\u001b[39m\u001b[39m\"\u001b[39m] \u001b[39m=\u001b[39m \u001b[39mself\u001b[39m\u001b[39m.\u001b[39m_unwrap_value(response\u001b[39m.\u001b[39mget(\u001b[39m\"\u001b[39m\u001b[39mvalue\u001b[39m\u001b[39m\"\u001b[39m, \u001b[39mNone\u001b[39;00m))\n\u001b[1;32m    446\u001b[0m     \u001b[39mreturn\u001b[39;00m response\n",
      "File \u001b[0;32m~/miniconda3/lib/python3.8/site-packages/selenium/webdriver/remote/errorhandler.py:249\u001b[0m, in \u001b[0;36mErrorHandler.check_response\u001b[0;34m(self, response)\u001b[0m\n\u001b[1;32m    247\u001b[0m         alert_text \u001b[39m=\u001b[39m value[\u001b[39m\"\u001b[39m\u001b[39malert\u001b[39m\u001b[39m\"\u001b[39m]\u001b[39m.\u001b[39mget(\u001b[39m\"\u001b[39m\u001b[39mtext\u001b[39m\u001b[39m\"\u001b[39m)\n\u001b[1;32m    248\u001b[0m     \u001b[39mraise\u001b[39;00m exception_class(message, screen, stacktrace, alert_text)  \u001b[39m# type: ignore[call-arg]  # mypy is not smart enough here\u001b[39;00m\n\u001b[0;32m--> 249\u001b[0m \u001b[39mraise\u001b[39;00m exception_class(message, screen, stacktrace)\n",
      "\u001b[0;31mWebDriverException\u001b[0m: Message: unknown error: Chrome failed to start: exited abnormally.\n  (unknown error: DevToolsActivePort file doesn't exist)\n  (The process started from chrome location /usr/bin/google-chrome is no longer running, so ChromeDriver is assuming that Chrome has crashed.)\nStacktrace:\n#0 0x561047ff1303 <unknown>\n#1 0x561047dc5d37 <unknown>\n#2 0x561047dee157 <unknown>\n#3 0x561047dea330 <unknown>\n#4 0x561047e2b4a6 <unknown>\n#5 0x561047e22753 <unknown>\n#6 0x561047df5a14 <unknown>\n#7 0x561047df6b7e <unknown>\n#8 0x56104804032e <unknown>\n#9 0x561048043c0e <unknown>\n#10 0x561048026610 <unknown>\n#11 0x561048044c23 <unknown>\n#12 0x561048018545 <unknown>\n#13 0x5610480656a8 <unknown>\n#14 0x561048065836 <unknown>\n#15 0x561048080d13 <unknown>\n#16 0x7fe09cc5d609 start_thread\n"
     ]
    }
   ],
   "source": [
    "import tkinter as tk\n",
    "from selenium import webdriver\n",
    "from selenium.webdriver.common.keys import Keys\n",
    "chrome_path = \"/root/autodl-tmp/chromedriver.exe\"\n",
    "\n",
    "driver = webdriver.Chrome(chrome_path)\n",
    "web_path =  \"https://baidu.com/\"\n",
    "print(web_path)\n",
    "driver.get(web_path)\n",
    "\n",
    "driver.find_element_by_tag_name('body').send_keys(Keys.CONTROL+'a')\n",
    "driver.find_element_by_tag_name('body').send_keys(Keys.CONTROL+'c')\n",
    "\n",
    "root = tk.Tk()\n",
    "root.withdraw()  # to hide the window\n",
    "content = root.clipboard_get()\n",
    "driver.close()\n",
    "driver.quit()\n",
    "print(content)"
   ]
  },
  {
   "cell_type": "code",
   "execution_count": 1,
   "metadata": {},
   "outputs": [
    {
     "ename": "PyperclipException",
     "evalue": "\n    Pyperclip could not find a copy/paste mechanism for your system.\n    For more information, please visit https://pyperclip.readthedocs.io/en/latest/index.html#not-implemented-error ",
     "output_type": "error",
     "traceback": [
      "\u001b[0;31m---------------------------------------------------------------------------\u001b[0m",
      "\u001b[0;31mPyperclipException\u001b[0m                        Traceback (most recent call last)",
      "\u001b[1;32m/root/autodl-tmp/getText.ipynb Cell 4\u001b[0m in \u001b[0;36m<cell line: 2>\u001b[0;34m()\u001b[0m\n\u001b[1;32m      <a href='vscode-notebook-cell://ssh-remote%2Bregion-3.seetacloud.com/root/autodl-tmp/getText.ipynb#W3sdnNjb2RlLXJlbW90ZQ%3D%3D?line=0'>1</a>\u001b[0m \u001b[39mimport\u001b[39;00m \u001b[39mclipboard\u001b[39;00m\n\u001b[0;32m----> <a href='vscode-notebook-cell://ssh-remote%2Bregion-3.seetacloud.com/root/autodl-tmp/getText.ipynb#W3sdnNjb2RlLXJlbW90ZQ%3D%3D?line=1'>2</a>\u001b[0m clipboard\u001b[39m.\u001b[39;49mcopy(\u001b[39m\"\u001b[39;49m\u001b[39mabc\u001b[39;49m\u001b[39m\"\u001b[39;49m)  \u001b[39m# now the clipboard content will be string \"abc\"\u001b[39;00m\n\u001b[1;32m      <a href='vscode-notebook-cell://ssh-remote%2Bregion-3.seetacloud.com/root/autodl-tmp/getText.ipynb#W3sdnNjb2RlLXJlbW90ZQ%3D%3D?line=2'>3</a>\u001b[0m text \u001b[39m=\u001b[39m clipboard\u001b[39m.\u001b[39mpaste()\n",
      "File \u001b[0;32m~/miniconda3/lib/python3.8/site-packages/pyperclip/__init__.py:659\u001b[0m, in \u001b[0;36mlazy_load_stub_copy\u001b[0;34m(text)\u001b[0m\n\u001b[1;32m    657\u001b[0m \u001b[39mglobal\u001b[39;00m copy, paste\n\u001b[1;32m    658\u001b[0m copy, paste \u001b[39m=\u001b[39m determine_clipboard()\n\u001b[0;32m--> 659\u001b[0m \u001b[39mreturn\u001b[39;00m copy(text)\n",
      "File \u001b[0;32m~/miniconda3/lib/python3.8/site-packages/pyperclip/__init__.py:336\u001b[0m, in \u001b[0;36minit_no_clipboard.<locals>.ClipboardUnavailable.__call__\u001b[0;34m(self, *args, **kwargs)\u001b[0m\n\u001b[1;32m    335\u001b[0m \u001b[39mdef\u001b[39;00m \u001b[39m__call__\u001b[39m(\u001b[39mself\u001b[39m, \u001b[39m*\u001b[39margs, \u001b[39m*\u001b[39m\u001b[39m*\u001b[39mkwargs):\n\u001b[0;32m--> 336\u001b[0m     \u001b[39mraise\u001b[39;00m PyperclipException(EXCEPT_MSG)\n",
      "\u001b[0;31mPyperclipException\u001b[0m: \n    Pyperclip could not find a copy/paste mechanism for your system.\n    For more information, please visit https://pyperclip.readthedocs.io/en/latest/index.html#not-implemented-error "
     ]
    }
   ],
   "source": [
    "import clipboard\n",
    "clipboard.copy(\"abc\")  # now the clipboard content will be string \"abc\"\n",
    "text = clipboard.paste()  # text will have the content of clipboard"
   ]
  },
  {
   "cell_type": "code",
   "execution_count": 2,
   "metadata": {},
   "outputs": [
    {
     "ename": "ModuleNotFoundError",
     "evalue": "No module named 'gi'",
     "output_type": "error",
     "traceback": [
      "\u001b[0;31m---------------------------------------------------------------------------\u001b[0m",
      "\u001b[0;31mModuleNotFoundError\u001b[0m                       Traceback (most recent call last)",
      "\u001b[1;32m/root/autodl-tmp/getText.ipynb Cell 5\u001b[0m in \u001b[0;36m<cell line: 1>\u001b[0;34m()\u001b[0m\n\u001b[0;32m----> <a href='vscode-notebook-cell://ssh-remote%2Bregion-3.seetacloud.com/root/autodl-tmp/getText.ipynb#W4sdnNjb2RlLXJlbW90ZQ%3D%3D?line=0'>1</a>\u001b[0m \u001b[39mfrom\u001b[39;00m \u001b[39mgi\u001b[39;00m\u001b[39m.\u001b[39;00m\u001b[39mrepository\u001b[39;00m \u001b[39mimport\u001b[39;00m Gtk, Gdk\n\u001b[1;32m      <a href='vscode-notebook-cell://ssh-remote%2Bregion-3.seetacloud.com/root/autodl-tmp/getText.ipynb#W4sdnNjb2RlLXJlbW90ZQ%3D%3D?line=3'>4</a>\u001b[0m \u001b[39mclass\u001b[39;00m \u001b[39mHello\u001b[39;00m(Gtk\u001b[39m.\u001b[39mWindow):\n\u001b[1;32m      <a href='vscode-notebook-cell://ssh-remote%2Bregion-3.seetacloud.com/root/autodl-tmp/getText.ipynb#W4sdnNjb2RlLXJlbW90ZQ%3D%3D?line=5'>6</a>\u001b[0m     \u001b[39mdef\u001b[39;00m \u001b[39m__init__\u001b[39m(\u001b[39mself\u001b[39m):\n",
      "\u001b[0;31mModuleNotFoundError\u001b[0m: No module named 'gi'"
     ]
    }
   ],
   "source": [
    "from gi.repository import Gtk, Gdk\n",
    "\n",
    "\n",
    "class Hello(Gtk.Window):\n",
    "\n",
    "    def __init__(self):\n",
    "        super(Hello, self).__init__()\n",
    "        clipboard = Gtk.Clipboard.get(Gdk.SELECTION_CLIPBOARD)\n",
    "        clipboard.set_text(\"hello world\", -1)\n",
    "        Gtk.main_quit()\n",
    "\n",
    "\n",
    "def main():\n",
    "    Hello()\n",
    "    Gtk.main()\n",
    "\n",
    "if __name__ == \"__main__\":\n",
    "    main()"
   ]
  }
 ],
 "metadata": {
  "kernelspec": {
   "display_name": "allenNLP",
   "language": "python",
   "name": "python3"
  },
  "language_info": {
   "codemirror_mode": {
    "name": "ipython",
    "version": 3
   },
   "file_extension": ".py",
   "mimetype": "text/x-python",
   "name": "python",
   "nbconvert_exporter": "python",
   "pygments_lexer": "ipython3",
   "version": "3.7.12 | packaged by conda-forge | (default, Oct 26 2021, 05:35:01) [MSC v.1916 64 bit (AMD64)]"
  },
  "orig_nbformat": 4,
  "vscode": {
   "interpreter": {
    "hash": "6b9ab3d7aeb713bb23367aacbf7bd3157791efac18b94bcf3d7fa9b071a27650"
   }
  }
 },
 "nbformat": 4,
 "nbformat_minor": 2
}
